{
  "nbformat": 4,
  "nbformat_minor": 0,
  "metadata": {
    "colab": {
      "provenance": [],
      "authorship_tag": "ABX9TyOPRTA9IG1PCSS6Rk/uenFy",
      "include_colab_link": true
    },
    "kernelspec": {
      "name": "python3",
      "display_name": "Python 3"
    },
    "language_info": {
      "name": "python"
    }
  },
  "cells": [
    {
      "cell_type": "markdown",
      "metadata": {
        "id": "view-in-github",
        "colab_type": "text"
      },
      "source": [
        "<a href=\"https://colab.research.google.com/github/snpsuen/Kubeflow_quickstart/blob/main/artifact/Pytorch_RNN_LSTM_AT_example05.ipynb\" target=\"_parent\"><img src=\"https://colab.research.google.com/assets/colab-badge.svg\" alt=\"Open In Colab\"/></a>"
      ]
    },
    {
      "cell_type": "code",
      "execution_count": 1,
      "metadata": {
        "id": "K4frIL_IkbqB"
      },
      "outputs": [],
      "source": [
        "import matplotlib.pyplot as plt\n",
        "import numpy as np\n",
        "import pandas as pd\n",
        "import torch\n",
        "import torch.nn as nn\n",
        "import torch.optim as optim\n",
        "import torch.utils.data as data"
      ]
    },
    {
      "cell_type": "code",
      "source": [
        "print(\"(1) Reading airline passengers CSV ...\")\n",
        "print(\"\")\n",
        "df = pd.read_csv('https://raw.githubusercontent.com/jbrownlee/Datasets/master/airline-passengers.csv')\n",
        "print(\"Type of df = \", type(df))\n",
        "print(\"df.shape = \", df.shape)\n",
        "timeseries = df[[\"Passengers\"]].values.astype('float32')\n",
        "print(\"Type of timeseries = \", type(timeseries))\n",
        "print(\"timeseries.shape = \", timeseries.shape)"
      ],
      "metadata": {
        "id": "49AyG1c2kqIY",
        "colab": {
          "base_uri": "https://localhost:8080/"
        },
        "outputId": "9fb53ec1-b0c3-44b7-cd64-8c55c6593bdc"
      },
      "execution_count": 2,
      "outputs": [
        {
          "output_type": "stream",
          "name": "stdout",
          "text": [
            "(1) Reading airline passengers CSV ...\n",
            "\n",
            "Type of df =  <class 'pandas.core.frame.DataFrame'>\n",
            "df.shape =  (144, 2)\n",
            "Type of timeseries =  <class 'numpy.ndarray'>\n",
            "timeseries.shape =  (144, 1)\n"
          ]
        }
      ]
    },
    {
      "cell_type": "code",
      "source": [
        "proportion = 0.70\n",
        "lookback = 4\n",
        "train_size = int(len(timeseries) * proportion)\n",
        "test_size = len(timeseries) - train_size\n",
        "train, test, forecast = timeseries[:train_size], timeseries[train_size:], timeseries[-lookback:]\n",
        "\n",
        "print(\"Type of train = \", type(train))\n",
        "print(\"train.shape = \", train.shape)\n",
        "print(\"Type of test = \", type(test))\n",
        "print(\"test.shape = \", test.shape)\n",
        "print(\"Type of forecast = \", type(forecast))\n",
        "print(\"forecast.shape = \", forecast.shape)"
      ],
      "metadata": {
        "colab": {
          "base_uri": "https://localhost:8080/"
        },
        "id": "q9wOLV0htwmv",
        "outputId": "2ffb892a-1c44-42e8-c086-d136fed3c8d8"
      },
      "execution_count": 3,
      "outputs": [
        {
          "output_type": "stream",
          "name": "stdout",
          "text": [
            "Type of train =  <class 'numpy.ndarray'>\n",
            "train.shape =  (100, 1)\n",
            "Type of test =  <class 'numpy.ndarray'>\n",
            "test.shape =  (44, 1)\n",
            "Type of forecast =  <class 'numpy.ndarray'>\n",
            "forecast.shape =  (4, 1)\n"
          ]
        }
      ]
    },
    {
      "cell_type": "code",
      "source": [
        "print(\"(2) Preparing DL training and testing datasets ...\")\n",
        "print(\"\")\n",
        "\n",
        "def create_dataset(numarray, lookback):\n",
        "    \"\"\"Transform a time series into a prediction dataset\n",
        "\n",
        "    Args:\n",
        "        numarray: A numpy array of time series, first dimension is the time steps\n",
        "        lookback: Size of window for prediction\n",
        "    \"\"\"\n",
        "    X, y = [], []\n",
        "\n",
        "    for i in range(len(numarray)-lookback):\n",
        "        feature = numarray[i:i+lookback]\n",
        "        target = numarray[i+lookback]\n",
        "        X.append(feature)\n",
        "        y.append(target)\n",
        "    return torch.tensor(np.array(X)), torch.tensor(np.array(y))\n",
        "\n",
        "X_train, y_train = create_dataset(train, lookback=lookback)\n",
        "X_test, y_test = create_dataset(test, lookback=lookback)\n",
        "X_forecast = torch.tensor(forecast.reshape(1, -1, 1))\n",
        "\n",
        "print(\"Type of X_train, type of y_train = \", type(X_train), type(y_train))\n",
        "print(\"X_train.shape(samples, timesteps, features), y_train.shape(samples, features) = \", X_train.shape, y_train.shape)\n",
        "print(\"Type of X_test, type of y_test = \", type(X_train), type(y_train))\n",
        "print(\"X_test.shape(samples, timesteps, features), y_test.shape(samples, features) = \", X_test.shape, y_test.shape)\n",
        "print(\"Type of X_forecast = \", type(X_forecast))\n",
        "print(\"X_forecast.shape(samples, timesteps, features) = \", X_forecast.shape)"
      ],
      "metadata": {
        "colab": {
          "base_uri": "https://localhost:8080/"
        },
        "id": "By9lETJhSiJ7",
        "outputId": "5320d685-a650-45b6-edcf-7af876a3b9d6"
      },
      "execution_count": 4,
      "outputs": [
        {
          "output_type": "stream",
          "name": "stdout",
          "text": [
            "(2) Preparing DL training and testing datasets ...\n",
            "\n",
            "Type of X_train, type of y_train =  <class 'torch.Tensor'> <class 'torch.Tensor'>\n",
            "X_train.shape(samples, timesteps, features), y_train.shape(samples, features) =  torch.Size([96, 4, 1]) torch.Size([96, 1])\n",
            "Type of X_test, type of y_test =  <class 'torch.Tensor'> <class 'torch.Tensor'>\n",
            "X_test.shape(samples, timesteps, features), y_test.shape(samples, features) =  torch.Size([40, 4, 1]) torch.Size([40, 1])\n",
            "Type of X_forecast =  <class 'torch.Tensor'>\n",
            "X_forecast.shape(samples, timesteps, features) =  torch.Size([1, 4, 1])\n"
          ]
        }
      ]
    },
    {
      "cell_type": "code",
      "source": [
        "print(\"(3) Setting up an RNN LSTM model ...\")\n",
        "print(\"\")\n",
        "\n",
        "class AirModel(nn.Module):\n",
        "    def __init__(self):\n",
        "        super().__init__()\n",
        "        self.lstm = nn.LSTM(input_size=1, hidden_size=50, num_layers=1, batch_first=True)\n",
        "        self.linear = nn.Linear(in_features=50, out_features=1)\n",
        "    def forward(self, x):\n",
        "        x, _ = self.lstm(x)\n",
        "        x = self.linear(x[:, -1, :])\n",
        "        return x\n",
        "\n",
        "model = AirModel()\n",
        "optimizer = optim.Adam(model.parameters())\n",
        "mseloss = nn.MSELoss()\n",
        "trainloader = data.DataLoader(data.TensorDataset(X_train, y_train), shuffle=True, batch_size=8)"
      ],
      "metadata": {
        "id": "QtEofy0UnVBh",
        "colab": {
          "base_uri": "https://localhost:8080/"
        },
        "outputId": "de138058-cc85-4694-e9b0-e10ea255c01f"
      },
      "execution_count": 5,
      "outputs": [
        {
          "output_type": "stream",
          "name": "stdout",
          "text": [
            "(3) Setting up an RNN LSTM model ...\n",
            "\n"
          ]
        }
      ]
    },
    {
      "cell_type": "code",
      "source": [
        "print(\"(4) Training and evaluating the model ...\")\n",
        "print(\"\")\n",
        "\n",
        "n_epochs = 100\n",
        "for epoch in range(n_epochs):\n",
        "    model.train()\n",
        "    for X_batch, y_batch in trainloader:\n",
        "        y_pred = model(X_batch)\n",
        "        loss = mseloss(y_pred, y_batch)\n",
        "        optimizer.zero_grad()\n",
        "        loss.backward()\n",
        "        optimizer.step()\n",
        "\n",
        "    if epoch % 10 != 0:\n",
        "        continue\n",
        "\n",
        "    # Validation\n",
        "    model.eval()\n",
        "    with torch.no_grad():\n",
        "        y_pred = model(X_train)\n",
        "        train_rmse = np.sqrt(mseloss(y_pred, y_train))\n",
        "        y_pred = model(X_test)\n",
        "        test_rmse = np.sqrt(mseloss(y_pred, y_test))\n",
        "    print(\"Epoch %d: train RMSE %.4f, test RMSE %.4f\" % (epoch, train_rmse, test_rmse))"
      ],
      "metadata": {
        "colab": {
          "base_uri": "https://localhost:8080/"
        },
        "id": "p0YwqwscuFc5",
        "outputId": "feb9af66-3658-4902-85a3-ed26942e940b"
      },
      "execution_count": 6,
      "outputs": [
        {
          "output_type": "stream",
          "name": "stdout",
          "text": [
            "(4) Training and evaluating the model ...\n",
            "\n"
          ]
        },
        {
          "output_type": "stream",
          "name": "stderr",
          "text": [
            "/tmp/ipython-input-6-4125457189.py:21: DeprecationWarning: __array_wrap__ must accept context and return_scalar arguments (positionally) in the future. (Deprecated NumPy 2.0)\n",
            "  train_rmse = np.sqrt(mseloss(y_pred, y_train))\n",
            "/tmp/ipython-input-6-4125457189.py:23: DeprecationWarning: __array_wrap__ must accept context and return_scalar arguments (positionally) in the future. (Deprecated NumPy 2.0)\n",
            "  test_rmse = np.sqrt(mseloss(y_pred, y_test))\n"
          ]
        },
        {
          "output_type": "stream",
          "name": "stdout",
          "text": [
            "Epoch 0: train RMSE 233.5489, test RMSE 427.3872\n",
            "Epoch 10: train RMSE 225.2196, test RMSE 418.7727\n",
            "Epoch 20: train RMSE 218.5735, test RMSE 411.8629\n",
            "Epoch 30: train RMSE 212.7854, test RMSE 405.8306\n",
            "Epoch 40: train RMSE 207.4868, test RMSE 400.2926\n",
            "Epoch 50: train RMSE 202.4110, test RMSE 394.9719\n",
            "Epoch 60: train RMSE 197.5094, test RMSE 389.8178\n",
            "Epoch 70: train RMSE 192.7283, test RMSE 384.7739\n",
            "Epoch 80: train RMSE 188.0657, test RMSE 379.8378\n",
            "Epoch 90: train RMSE 183.4943, test RMSE 374.9803\n"
          ]
        }
      ]
    },
    {
      "cell_type": "code",
      "source": [
        "print(\"(5) Forecasting from the model ...\")\n",
        "print(\"\")\n",
        "\n",
        "with torch.no_grad():\n",
        "  y_forecast = model(X_forecast)\n",
        "\n",
        "print(\"Forecast input = \", X_forecast)\n",
        "print(\"Forecast output = \", y_forecast)"
      ],
      "metadata": {
        "colab": {
          "base_uri": "https://localhost:8080/"
        },
        "id": "oKj8Hug7bDlc",
        "outputId": "d2be4f32-da5f-4594-a86b-e342ad30dd1b"
      },
      "execution_count": 7,
      "outputs": [
        {
          "output_type": "stream",
          "name": "stdout",
          "text": [
            "(5) Forecasting from the model ...\n",
            "\n",
            "Forecast input =  tensor([[[508.],\n",
            "         [461.],\n",
            "         [390.],\n",
            "         [432.]]])\n",
            "Forecast output =  tensor([[58.2607]])\n"
          ]
        }
      ]
    },
    {
      "cell_type": "code",
      "source": [
        "print(\"(6) Plotting the model ...\")\n",
        "print(\"\")\n",
        "\n",
        "with torch.no_grad():\n",
        "    # shift train predictions for plotting\n",
        "    train_plot = np.ones_like(timeseries) * np.nan\n",
        "    # y_pred = model(X_train)\n",
        "    # y_pred = y_pred[:, -1, :]\n",
        "    train_plot[lookback:train_size] = model(X_train)\n",
        "\n",
        "    # shift test predictions for plotting\n",
        "    test_plot = np.ones_like(timeseries) * np.nan\n",
        "    test_plot[train_size+lookback:len(timeseries)] = model(X_test)\n",
        "# plot\n",
        "plt.plot(timeseries, c='r')\n",
        "plt.plot(train_plot, c='c')\n",
        "plt.plot(test_plot, c='g')\n",
        "plt.show(block=True)"
      ],
      "metadata": {
        "colab": {
          "base_uri": "https://localhost:8080/",
          "height": 554
        },
        "id": "BSNimX-M3-Jk",
        "outputId": "83fc6a74-bf08-4859-9761-c378f9e049ac"
      },
      "execution_count": 10,
      "outputs": [
        {
          "output_type": "stream",
          "name": "stdout",
          "text": [
            "(6) Plotting the model ...\n",
            "\n"
          ]
        },
        {
          "output_type": "stream",
          "name": "stderr",
          "text": [
            "/tmp/ipython-input-10-662216539.py:9: DeprecationWarning: __array__ implementation doesn't accept a copy keyword, so passing copy=False failed. __array__ must implement 'dtype' and 'copy' keyword arguments.\n",
            "  train_plot[lookback:train_size] = model(X_train)\n",
            "/tmp/ipython-input-10-662216539.py:13: DeprecationWarning: __array__ implementation doesn't accept a copy keyword, so passing copy=False failed. __array__ must implement 'dtype' and 'copy' keyword arguments.\n",
            "  test_plot[train_size+lookback:len(timeseries)] = model(X_test)\n"
          ]
        },
        {
          "output_type": "display_data",
          "data": {
            "text/plain": [
              "<Figure size 640x480 with 1 Axes>"
            ],
            "image/png": "[encoded data removed]"
          },
          "metadata": {}
        }
      ]
    }
  ]
}